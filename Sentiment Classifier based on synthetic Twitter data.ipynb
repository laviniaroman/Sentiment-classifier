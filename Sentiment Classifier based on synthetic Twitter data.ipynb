{
 "cells": [
  {
   "cell_type": "markdown",
   "id": "256e05f9",
   "metadata": {},
   "source": [
    "*This project was part of the Python 3 Programming Specialization offered by the University of Michigan on Coursera*"
   ]
  },
  {
   "cell_type": "markdown",
   "id": "6debf1d2",
   "metadata": {},
   "source": [
    "#### Task\n",
    "\n",
    "We have provided some synthetic (fake, semi-randomly generated) twitter data in a csv file named project_twitter_data.csv which has the text of a tweet, the number of retweets of that tweet, and the number of replies to that tweet. We have also words that express positive sentiment and negative sentiment, in the files positive_words.txt and negative_words.txt.\n",
    "\n",
    "Your task is to build a sentiment classifier, which will detect how positive or negative each tweet is. You will create a csv file, which contains columns for the Number of Retweets, Number of Replies, Positive Score (which is how many happy words are in the tweet), Negative Score (which is how many angry words are in the tweet), and the Net Score for each tweet. At the end, you upload the csv file to Excel or Google Sheets, and produce a graph of the Net Score vs Number of Retweets."
   ]
  },
  {
   "cell_type": "code",
   "execution_count": 8,
   "id": "b9dd4656",
   "metadata": {},
   "outputs": [
    {
     "name": "stdout",
     "output_type": "stream",
     "text": [
      "positive score: [0, 2, 0, 1, 2, 2, 1, 0, 0, 4, 0, 0, 2, 1, 0, 1, 2, 3, 1]\n",
      "negative score: [0, 2, 0, 0, 0, 0, 0, 3, 2, 0, 1, 0, 0, 0, 0, 1, 0, 1, 1]\n",
      "net score: [0, 0, 0, 1, 2, 2, 1, -3, -2, 4, -1, 0, 2, 1, 0, 0, 2, 2, 0]\n"
     ]
    }
   ],
   "source": [
    "import random\n",
    "import statistics\n",
    "punctuation_chars = [\"'\", '\"', \",\", \".\", \"!\", \":\", \";\", '#', '@']\n",
    "\n",
    "# lists of words to use\n",
    "positive_words = []\n",
    "with open(\"positive_words.txt\") as pos_f:\n",
    "    for lin in pos_f:\n",
    "        if lin[0] != ';' and lin[0] != '\\n':\n",
    "            positive_words.append(lin.strip())\n",
    "            \n",
    "negative_words = []\n",
    "with open(\"negative_words.txt\") as pos_f:\n",
    "    for lin in pos_f:\n",
    "        if lin[0] != ';' and lin[0] != '\\n':\n",
    "            negative_words.append(lin.strip())\n",
    "\n",
    "def strip_punctuation(s):\n",
    "    for i in s:\n",
    "        if i in punctuation_chars:\n",
    "            s = s.replace(i,'')\n",
    "    return s\n",
    "\n",
    "def get_pos(s):\n",
    "    s_lower = s.lower()\n",
    "    s_list = s_lower.split(\" \")\n",
    "    number_positive_words = 0\n",
    "    for i in s_list:\n",
    "        if i in positive_words:\n",
    "            number_positive_words += 1\n",
    "    return number_positive_words\n",
    "\n",
    "def get_neg(sen):\n",
    "    negative_words_number = 0\n",
    "    sen_lower = sen.lower()\n",
    "    sen_list = sen_lower.split(\" \")\n",
    "    for word in sen_list:\n",
    "        if word in negative_words:\n",
    "            negative_words_number += 1            \n",
    "    return negative_words_number\n",
    "\n",
    "\n",
    "\n",
    "source_file = open('project_twitter_data.csv','r')\n",
    "tweets = []\n",
    "n_retweets = []\n",
    "n_replies = []\n",
    "lines = source_file.readlines()\n",
    "header = lines[0]\n",
    "\n",
    "for line in lines[1:]:\n",
    "    values = line.strip().split(',')\n",
    "    tweets.append(values[0])\n",
    "    n_retweets.append(values[1])\n",
    "    n_replies.append(values[2])\n",
    "\n",
    "positive_score = []\n",
    "for item in tweets:\n",
    "    score = get_pos(item)\n",
    "    positive_score.append(score)\n",
    "print('positive score:', positive_score)   \n",
    "\n",
    "negative_score = []\n",
    "for item in tweets:\n",
    "    score = get_neg(item)\n",
    "    negative_score.append(score)\n",
    "print('negative score:', negative_score)\n",
    "\n",
    "\n",
    "net_score = []\n",
    "count = 0\n",
    "while count < len(negative_score):\n",
    "    net = (positive_score[count] - negative_score[count])\n",
    "    net_score.append(net)\n",
    "    count +=1\n",
    "print('net score:', net_score)    \n",
    "\n",
    "\n",
    "results = open('resulting_data.csv','w')\n",
    "results.write('Number of Retweets, Number of Replies, Positive Score, Negative Score, Net Score')\n",
    "results.write('\\n')\n",
    "\n",
    "counter = 0\n",
    "while counter < len(n_retweets):\n",
    "    row = '{},{},{},{},{}'.format(n_retweets[counter],n_replies[counter],positive_score[counter],negative_score[counter],net_score[counter])\n",
    "    results.write(row)\n",
    "    results.write('\\n')\n",
    "    counter += 1\n",
    "    \n",
    "    \n",
    "source_file.close()\n",
    "results.close()"
   ]
  }
 ],
 "metadata": {
  "kernelspec": {
   "display_name": "Python 3 (ipykernel)",
   "language": "python",
   "name": "python3"
  },
  "language_info": {
   "codemirror_mode": {
    "name": "ipython",
    "version": 3
   },
   "file_extension": ".py",
   "mimetype": "text/x-python",
   "name": "python",
   "nbconvert_exporter": "python",
   "pygments_lexer": "ipython3",
   "version": "3.10.6"
  }
 },
 "nbformat": 4,
 "nbformat_minor": 5
}
